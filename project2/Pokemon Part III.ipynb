{
 "cells": [
  {
   "cell_type": "markdown",
   "id": "f603f8e6",
   "metadata": {},
   "source": [
    "## Task 4: Who's the most frequent winner?"
   ]
  },
  {
   "cell_type": "code",
   "execution_count": null,
   "id": "ce58eee2",
   "metadata": {},
   "outputs": [],
   "source": [
    "import pandas as pd\n",
    "combats = pd.read_csv('input/combats.csv')\n",
    "pokemon = pd.read_csv('input/pokemon.csv')\n",
    "names_dict = dict(zip(pokemon['#'], pokemon['Name']))\n",
    "cols = [\"First_pokemon\",\"Second_pokemon\",\"Winner\"]\n",
    "combats_name = combats[cols].replace(names_dict)"
   ]
  },
  {
   "cell_type": "code",
   "execution_count": null,
   "id": "cfa30884",
   "metadata": {},
   "outputs": [],
   "source": [
    "#pip install wordcloud"
   ]
  },
  {
   "cell_type": "code",
   "execution_count": null,
   "id": "0ca940cc",
   "metadata": {},
   "outputs": [],
   "source": [
    "import numpy as np\n",
    "import matplotlib.pyplot as plt\n",
    "from wordcloud import WordCloud, ImageColorGenerator\n",
    "from PIL import Image\n",
    "\n",
    "combats_names = combats[cols].replace(names_dict)\n",
    "#print (combats_names[\"Winner\"].value_counts()[:10])\n",
    "winners = list(combats_names[\"Winner\"])\n",
    "#data = [x for x in winners if type(x)!= str]\n",
    "#print (data)\n"
   ]
  },
  {
   "cell_type": "code",
   "execution_count": null,
   "id": "e1e405c6",
   "metadata": {},
   "outputs": [],
   "source": [
    "winners_str = [str(i) for i in winners]\n",
    "winners_text = (\",\").join(winners_str)\n",
    "#create word cloud\n",
    "wc = WordCloud(background_color= \"#ffffcc\", random_state=1, margin=3).generate(winners_text)\n",
    "plt.figure(figsize=(10,10))\n",
    "plt.axis(\"off\")\n",
    "plt.imshow(wc, interpolation='bilinear')\n",
    "plt.show()"
   ]
  },
  {
   "cell_type": "markdown",
   "id": "26ac0a5e",
   "metadata": {},
   "source": [
    "### Open question: Can you create a word cloud with a page of news for today? Hint: You don't want to have a could with a big A in the center."
   ]
  },
  {
   "cell_type": "code",
   "execution_count": null,
   "id": "75a660c6",
   "metadata": {},
   "outputs": [],
   "source": []
  }
 ],
 "metadata": {
  "kernelspec": {
   "display_name": "Python 3 (ipykernel)",
   "language": "python",
   "name": "python3"
  },
  "language_info": {
   "codemirror_mode": {
    "name": "ipython",
    "version": 3
   },
   "file_extension": ".py",
   "mimetype": "text/x-python",
   "name": "python",
   "nbconvert_exporter": "python",
   "pygments_lexer": "ipython3",
   "version": "3.10.9"
  }
 },
 "nbformat": 4,
 "nbformat_minor": 5
}
