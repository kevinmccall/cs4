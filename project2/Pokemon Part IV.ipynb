{
 "cells": [
  {
   "cell_type": "markdown",
   "id": "7ba55bea",
   "metadata": {},
   "source": [
    "# Data Prediction and Classifier\n",
    "We are going over the following algorithms and discuss their outcome in pokemon winner prediction. \n",
    "* Linear Regression\n",
    "* Logistic Regression\n",
    "* SVM\n",
    "* KNN Classifier\n",
    "* (Perceptron optional)\n",
    "* Decision Tree\n",
    "* Random Forest\n",
    "\n",
    "At the end, students have reading assignments on advantages and disadvantages for each of the machine learning algorithms."
   ]
  },
  {
   "cell_type": "code",
   "execution_count": null,
   "id": "3f42302c",
   "metadata": {},
   "outputs": [],
   "source": []
  }
 ],
 "metadata": {
  "kernelspec": {
   "display_name": "Python 3 (ipykernel)",
   "language": "python",
   "name": "python3"
  },
  "language_info": {
   "codemirror_mode": {
    "name": "ipython",
    "version": 3
   },
   "file_extension": ".py",
   "mimetype": "text/x-python",
   "name": "python",
   "nbconvert_exporter": "python",
   "pygments_lexer": "ipython3",
   "version": "3.10.9"
  }
 },
 "nbformat": 4,
 "nbformat_minor": 5
}
