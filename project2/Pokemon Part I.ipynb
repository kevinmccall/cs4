{
 "cells": [
  {
   "cell_type": "markdown",
   "id": "06c7f77e",
   "metadata": {},
   "source": [
    "# Data Collection"
   ]
  },
  {
   "cell_type": "markdown",
   "id": "432d95d6",
   "metadata": {},
   "source": [
    "1. Go to https://pokeapi.co/ for the pokemon api\n",
    "2. Open https://www.postman.com/ and create your account\n",
    "3. Copy the link provided on the homepage of pokeapi. You don't have to change it for now.\n",
    "    * There should be a clickable link on the homepage of pokeapi showing exactly what you have copied. Click it and see what happens.\n",
    "    * Open a new tab on chrome and paste the link you copied on the address bar. Click enter and see what happens.\n",
    "    * On the postman.com page, click new -> HTTP. Check if the method is \"GET\", if not, choose \"GET\". Then paste the copied api link to the textbox following \"GET\"."
   ]
  },
  {
   "cell_type": "markdown",
   "id": "c02fb082",
   "metadata": {},
   "source": [
    "## Task 1: Write code in python to find all pokemons, iterate the list and build a data frame with pokemons' \n",
    "* Name,\n",
    "* Type 1,\n",
    "* Type 2,\n",
    "* Generation (generation id where the pokemon was first introduced),\n",
    "* Legendary"
   ]
  },
  {
   "cell_type": "markdown",
   "id": "d9aba902",
   "metadata": {},
   "source": [
    "Hint 1: First find a directory of all pokemons, and then interate the directory to find the properties of each pokemon as requested.\n",
    "\n",
    "Hint 2: Use an api call such as http://pokeapi.co/api/v2/pokemon/?limit=100 to explore the pokemons. Count at least 800 pokemons in your collected data. Below is an example of making api calls in python."
   ]
  },
  {
   "cell_type": "code",
   "execution_count": 3,
   "id": "46dba580",
   "metadata": {},
   "outputs": [],
   "source": [
    "#pip install requests"
   ]
  },
  {
   "cell_type": "code",
   "execution_count": 4,
   "id": "d46267eb",
   "metadata": {},
   "outputs": [],
   "source": [
    "import json\n",
    "import requests\n",
    "\n",
    "\n",
    "def get_data(api):\n",
    "    response = requests.get(f\"{api}\")\n",
    "    if response.status_code == 200:\n",
    "        print(\"sucessfully fetched the data\")\n",
    "        return response.json()\n",
    "    else:\n",
    "        return f\"Hello person, there's a {response.status_code} error with your request\"\n",
    "\n"
   ]
  },
  {
   "cell_type": "code",
   "execution_count": 5,
   "id": "32a508ff",
   "metadata": {},
   "outputs": [
    {
     "name": "stdout",
     "output_type": "stream",
     "text": [
      "sucessfully fetched the data\n"
     ]
    }
   ],
   "source": [
    "api_call_result = get_data(\"http://pokeapi.co/api/v2/pokemon/?limit=100\")"
   ]
  },
  {
   "cell_type": "code",
   "execution_count": 6,
   "id": "1feebe64",
   "metadata": {},
   "outputs": [],
   "source": [
    "#api_call_result"
   ]
  },
  {
   "cell_type": "code",
   "execution_count": 7,
   "id": "d2545f2c",
   "metadata": {},
   "outputs": [
    {
     "data": {
      "text/plain": [
       "int"
      ]
     },
     "execution_count": 7,
     "metadata": {},
     "output_type": "execute_result"
    }
   ],
   "source": [
    "type(api_call_result[\"count\"])"
   ]
  },
  {
   "cell_type": "code",
   "execution_count": 8,
   "id": "92cb1dd4",
   "metadata": {},
   "outputs": [
    {
     "data": {
      "text/plain": [
       "list"
      ]
     },
     "execution_count": 8,
     "metadata": {},
     "output_type": "execute_result"
    }
   ],
   "source": [
    "type(api_call_result[\"results\"])"
   ]
  },
  {
   "cell_type": "code",
   "execution_count": 9,
   "id": "7340c2d7",
   "metadata": {},
   "outputs": [],
   "source": [
    "pokemon_api_list = api_call_result[\"results\"]\n",
    "#pokemon_api_list"
   ]
  },
  {
   "cell_type": "code",
   "execution_count": 10,
   "id": "b6535d88",
   "metadata": {},
   "outputs": [],
   "source": [
    "name = pokemon_api_list[0]['name']\n",
    "url = pokemon_api_list[0]['url']"
   ]
  },
  {
   "cell_type": "code",
   "execution_count": 11,
   "id": "47961a23",
   "metadata": {
    "scrolled": true
   },
   "outputs": [
    {
     "name": "stdout",
     "output_type": "stream",
     "text": [
      "sucessfully fetched the data\n"
     ]
    }
   ],
   "source": [
    "pokemon_properties = get_data(url)\n",
    "types = pokemon_properties['types']\n",
    "type1= types[0]['type']['name']\n",
    "type2= types[1]['type']['name']\n"
   ]
  },
  {
   "cell_type": "code",
   "execution_count": 12,
   "id": "9056de1c",
   "metadata": {
    "scrolled": false
   },
   "outputs": [],
   "source": [
    "#pokemon_properties"
   ]
  },
  {
   "cell_type": "markdown",
   "id": "9d2e8d70",
   "metadata": {},
   "source": [
    "Hint 3: Use pandas to store and manage your pokemon as a data frame. \n",
    "Check the documentation of pandas here: \n",
    "https://pandas.pydata.org/\n",
    "Check pandas tutorial for beginners here: \n",
    "www.w3schools.com/python/pandas/default.asp.\n",
    "For more examples and instructions on pandas, check the book: https://jakevdp.github.io/PythonDataScienceHandbook/\n"
   ]
  },
  {
   "cell_type": "code",
   "execution_count": 13,
   "id": "273198da",
   "metadata": {},
   "outputs": [],
   "source": [
    "import pandas as pd"
   ]
  },
  {
   "cell_type": "code",
   "execution_count": 14,
   "id": "6174e31e",
   "metadata": {},
   "outputs": [],
   "source": [
    "#Example: create a data frame\n",
    "pokemon_dict = {\"Name\": [name], \"Type 1\": [type1], \"Type 2\": [type2]}\n",
    "pokemon_df = pd.DataFrame(pokemon_dict)"
   ]
  },
  {
   "cell_type": "code",
   "execution_count": 15,
   "id": "fa85803f",
   "metadata": {},
   "outputs": [
    {
     "data": {
      "text/html": [
       "<div>\n",
       "<style scoped>\n",
       "    .dataframe tbody tr th:only-of-type {\n",
       "        vertical-align: middle;\n",
       "    }\n",
       "\n",
       "    .dataframe tbody tr th {\n",
       "        vertical-align: top;\n",
       "    }\n",
       "\n",
       "    .dataframe thead th {\n",
       "        text-align: right;\n",
       "    }\n",
       "</style>\n",
       "<table border=\"1\" class=\"dataframe\">\n",
       "  <thead>\n",
       "    <tr style=\"text-align: right;\">\n",
       "      <th></th>\n",
       "      <th>Name</th>\n",
       "      <th>Type 1</th>\n",
       "      <th>Type 2</th>\n",
       "    </tr>\n",
       "  </thead>\n",
       "  <tbody>\n",
       "    <tr>\n",
       "      <th>0</th>\n",
       "      <td>bulbasaur</td>\n",
       "      <td>grass</td>\n",
       "      <td>poison</td>\n",
       "    </tr>\n",
       "  </tbody>\n",
       "</table>\n",
       "</div>"
      ],
      "text/plain": [
       "        Name Type 1  Type 2\n",
       "0  bulbasaur  grass  poison"
      ]
     },
     "execution_count": 15,
     "metadata": {},
     "output_type": "execute_result"
    }
   ],
   "source": [
    "pokemon_df.head()"
   ]
  },
  {
   "cell_type": "code",
   "execution_count": 16,
   "id": "dce6033d",
   "metadata": {},
   "outputs": [],
   "source": [
    "#pokemon_df.describe()"
   ]
  },
  {
   "cell_type": "code",
   "execution_count": 17,
   "id": "ae90d3c2",
   "metadata": {},
   "outputs": [],
   "source": [
    "#Write your code here to accomplish task 1\n",
    "#insert more cells if needed."
   ]
  },
  {
   "cell_type": "markdown",
   "id": "b13a5921",
   "metadata": {},
   "source": [
    "## Task 2: Data Cleaning"
   ]
  },
  {
   "cell_type": "markdown",
   "id": "d6668328",
   "metadata": {},
   "source": [
    "In the input folder, there are two other pokemon data documents: pokemon_1 and pokemon_status, both in csv format. Convert each of those files in a data frame and then compare those three pokemon dataframes.\n",
    "1. Are they holding the same rows? \n",
    "2. Are they holding the same columns?\n",
    "3. Can we merge them? If yes, in what way?\n",
    "\n",
    "\n",
    "Write python code to combine all three tables and save the result as .csv file\n",
    "\n",
    "Hint: Check the page https://pandas.pydata.org/docs/getting_started/intro_tutorials/03_subset_data.html\n"
   ]
  },
  {
   "cell_type": "code",
   "execution_count": 18,
   "id": "75557ac1",
   "metadata": {},
   "outputs": [],
   "source": [
    "pokemon_1 = pd.read_csv(\"input/pokemon_1.csv\")"
   ]
  },
  {
   "cell_type": "code",
   "execution_count": 19,
   "id": "3ca05f3b",
   "metadata": {},
   "outputs": [
    {
     "data": {
      "text/html": [
       "<div>\n",
       "<style scoped>\n",
       "    .dataframe tbody tr th:only-of-type {\n",
       "        vertical-align: middle;\n",
       "    }\n",
       "\n",
       "    .dataframe tbody tr th {\n",
       "        vertical-align: top;\n",
       "    }\n",
       "\n",
       "    .dataframe thead th {\n",
       "        text-align: right;\n",
       "    }\n",
       "</style>\n",
       "<table border=\"1\" class=\"dataframe\">\n",
       "  <thead>\n",
       "    <tr style=\"text-align: right;\">\n",
       "      <th></th>\n",
       "      <th>Name</th>\n",
       "      <th>Type1</th>\n",
       "      <th>Type2</th>\n",
       "    </tr>\n",
       "  </thead>\n",
       "  <tbody>\n",
       "    <tr>\n",
       "      <th>count</th>\n",
       "      <td>809</td>\n",
       "      <td>809</td>\n",
       "      <td>405</td>\n",
       "    </tr>\n",
       "    <tr>\n",
       "      <th>unique</th>\n",
       "      <td>809</td>\n",
       "      <td>18</td>\n",
       "      <td>18</td>\n",
       "    </tr>\n",
       "    <tr>\n",
       "      <th>top</th>\n",
       "      <td>bulbasaur</td>\n",
       "      <td>Water</td>\n",
       "      <td>Flying</td>\n",
       "    </tr>\n",
       "    <tr>\n",
       "      <th>freq</th>\n",
       "      <td>1</td>\n",
       "      <td>114</td>\n",
       "      <td>95</td>\n",
       "    </tr>\n",
       "  </tbody>\n",
       "</table>\n",
       "</div>"
      ],
      "text/plain": [
       "             Name  Type1   Type2\n",
       "count         809    809     405\n",
       "unique        809     18      18\n",
       "top     bulbasaur  Water  Flying\n",
       "freq            1    114      95"
      ]
     },
     "execution_count": 19,
     "metadata": {},
     "output_type": "execute_result"
    }
   ],
   "source": [
    "pokemon_1.describe()"
   ]
  },
  {
   "cell_type": "markdown",
   "id": "582dadf3",
   "metadata": {},
   "source": [
    "One useful operation on data frames is merging.\n",
    "https://pandas.pydata.org/pandas-docs/stable/reference/api/pandas.DataFrame.merge.html\n"
   ]
  },
  {
   "cell_type": "code",
   "execution_count": 20,
   "id": "ae3096d0",
   "metadata": {},
   "outputs": [
    {
     "name": "stdout",
     "output_type": "stream",
     "text": [
      "=== A ===\n"
     ]
    },
    {
     "data": {
      "text/html": [
       "<div>\n",
       "<style scoped>\n",
       "    .dataframe tbody tr th:only-of-type {\n",
       "        vertical-align: middle;\n",
       "    }\n",
       "\n",
       "    .dataframe tbody tr th {\n",
       "        vertical-align: top;\n",
       "    }\n",
       "\n",
       "    .dataframe thead th {\n",
       "        text-align: right;\n",
       "    }\n",
       "</style>\n",
       "<table border=\"1\" class=\"dataframe\">\n",
       "  <thead>\n",
       "    <tr style=\"text-align: right;\">\n",
       "      <th></th>\n",
       "      <th>country</th>\n",
       "      <th>year</th>\n",
       "      <th>cases</th>\n",
       "    </tr>\n",
       "  </thead>\n",
       "  <tbody>\n",
       "    <tr>\n",
       "      <th>0</th>\n",
       "      <td>Afghanistan</td>\n",
       "      <td>1999</td>\n",
       "      <td>745</td>\n",
       "    </tr>\n",
       "    <tr>\n",
       "      <th>1</th>\n",
       "      <td>Brazil</td>\n",
       "      <td>1999</td>\n",
       "      <td>37737</td>\n",
       "    </tr>\n",
       "    <tr>\n",
       "      <th>2</th>\n",
       "      <td>China</td>\n",
       "      <td>1999</td>\n",
       "      <td>212258</td>\n",
       "    </tr>\n",
       "    <tr>\n",
       "      <th>3</th>\n",
       "      <td>Afghanistan</td>\n",
       "      <td>2000</td>\n",
       "      <td>2666</td>\n",
       "    </tr>\n",
       "    <tr>\n",
       "      <th>4</th>\n",
       "      <td>Brazil</td>\n",
       "      <td>2000</td>\n",
       "      <td>80488</td>\n",
       "    </tr>\n",
       "    <tr>\n",
       "      <th>5</th>\n",
       "      <td>China</td>\n",
       "      <td>2000</td>\n",
       "      <td>213766</td>\n",
       "    </tr>\n",
       "  </tbody>\n",
       "</table>\n",
       "</div>"
      ],
      "text/plain": [
       "       country  year   cases\n",
       "0  Afghanistan  1999     745\n",
       "1       Brazil  1999   37737\n",
       "2        China  1999  212258\n",
       "3  Afghanistan  2000    2666\n",
       "4       Brazil  2000   80488\n",
       "5        China  2000  213766"
      ]
     },
     "metadata": {},
     "output_type": "display_data"
    }
   ],
   "source": [
    "from io import StringIO\n",
    "A_csv = \"\"\"country,year,cases\n",
    "Afghanistan,1999,745\n",
    "Brazil,1999,37737\n",
    "China,1999,212258\n",
    "Afghanistan,2000,2666\n",
    "Brazil,2000,80488\n",
    "China,2000,213766\"\"\"\n",
    "\n",
    "with StringIO(A_csv) as fp:\n",
    "    A = pd.read_csv(fp)\n",
    "print(\"=== A ===\")\n",
    "display(A)"
   ]
  },
  {
   "cell_type": "code",
   "execution_count": 21,
   "id": "8e39ada1",
   "metadata": {},
   "outputs": [
    {
     "name": "stdout",
     "output_type": "stream",
     "text": [
      "\n",
      "=== B ===\n"
     ]
    },
    {
     "data": {
      "text/html": [
       "<div>\n",
       "<style scoped>\n",
       "    .dataframe tbody tr th:only-of-type {\n",
       "        vertical-align: middle;\n",
       "    }\n",
       "\n",
       "    .dataframe tbody tr th {\n",
       "        vertical-align: top;\n",
       "    }\n",
       "\n",
       "    .dataframe thead th {\n",
       "        text-align: right;\n",
       "    }\n",
       "</style>\n",
       "<table border=\"1\" class=\"dataframe\">\n",
       "  <thead>\n",
       "    <tr style=\"text-align: right;\">\n",
       "      <th></th>\n",
       "      <th>country</th>\n",
       "      <th>year</th>\n",
       "      <th>population</th>\n",
       "    </tr>\n",
       "  </thead>\n",
       "  <tbody>\n",
       "    <tr>\n",
       "      <th>0</th>\n",
       "      <td>Afghanistan</td>\n",
       "      <td>1999</td>\n",
       "      <td>19987071</td>\n",
       "    </tr>\n",
       "    <tr>\n",
       "      <th>1</th>\n",
       "      <td>Brazil</td>\n",
       "      <td>1999</td>\n",
       "      <td>172006362</td>\n",
       "    </tr>\n",
       "    <tr>\n",
       "      <th>2</th>\n",
       "      <td>China</td>\n",
       "      <td>1999</td>\n",
       "      <td>1272915272</td>\n",
       "    </tr>\n",
       "    <tr>\n",
       "      <th>3</th>\n",
       "      <td>Afghanistan</td>\n",
       "      <td>2000</td>\n",
       "      <td>20595360</td>\n",
       "    </tr>\n",
       "    <tr>\n",
       "      <th>4</th>\n",
       "      <td>Brazil</td>\n",
       "      <td>2000</td>\n",
       "      <td>174504898</td>\n",
       "    </tr>\n",
       "    <tr>\n",
       "      <th>5</th>\n",
       "      <td>China</td>\n",
       "      <td>2000</td>\n",
       "      <td>1280428583</td>\n",
       "    </tr>\n",
       "  </tbody>\n",
       "</table>\n",
       "</div>"
      ],
      "text/plain": [
       "       country  year  population\n",
       "0  Afghanistan  1999    19987071\n",
       "1       Brazil  1999   172006362\n",
       "2        China  1999  1272915272\n",
       "3  Afghanistan  2000    20595360\n",
       "4       Brazil  2000   174504898\n",
       "5        China  2000  1280428583"
      ]
     },
     "metadata": {},
     "output_type": "display_data"
    }
   ],
   "source": [
    "B_csv = \"\"\"country,year,population\n",
    "Afghanistan,1999,19987071\n",
    "Brazil,1999,172006362\n",
    "China,1999,1272915272\n",
    "Afghanistan,2000,20595360\n",
    "Brazil,2000,174504898\n",
    "China,2000,1280428583\"\"\"\n",
    "\n",
    "with StringIO(B_csv) as fp:\n",
    "    B = pd.read_csv(fp)\n",
    "print(\"\\n=== B ===\")\n",
    "display(B)"
   ]
  },
  {
   "cell_type": "code",
   "execution_count": 22,
   "id": "70fc81bb",
   "metadata": {},
   "outputs": [
    {
     "name": "stdout",
     "output_type": "stream",
     "text": [
      "\n",
      "=== C = merge(A, B) ===\n"
     ]
    },
    {
     "data": {
      "text/html": [
       "<div>\n",
       "<style scoped>\n",
       "    .dataframe tbody tr th:only-of-type {\n",
       "        vertical-align: middle;\n",
       "    }\n",
       "\n",
       "    .dataframe tbody tr th {\n",
       "        vertical-align: top;\n",
       "    }\n",
       "\n",
       "    .dataframe thead th {\n",
       "        text-align: right;\n",
       "    }\n",
       "</style>\n",
       "<table border=\"1\" class=\"dataframe\">\n",
       "  <thead>\n",
       "    <tr style=\"text-align: right;\">\n",
       "      <th></th>\n",
       "      <th>country</th>\n",
       "      <th>year</th>\n",
       "      <th>cases</th>\n",
       "      <th>population</th>\n",
       "    </tr>\n",
       "  </thead>\n",
       "  <tbody>\n",
       "    <tr>\n",
       "      <th>0</th>\n",
       "      <td>Afghanistan</td>\n",
       "      <td>1999</td>\n",
       "      <td>745</td>\n",
       "      <td>19987071</td>\n",
       "    </tr>\n",
       "    <tr>\n",
       "      <th>1</th>\n",
       "      <td>Brazil</td>\n",
       "      <td>1999</td>\n",
       "      <td>37737</td>\n",
       "      <td>172006362</td>\n",
       "    </tr>\n",
       "    <tr>\n",
       "      <th>2</th>\n",
       "      <td>China</td>\n",
       "      <td>1999</td>\n",
       "      <td>212258</td>\n",
       "      <td>1272915272</td>\n",
       "    </tr>\n",
       "    <tr>\n",
       "      <th>3</th>\n",
       "      <td>Afghanistan</td>\n",
       "      <td>2000</td>\n",
       "      <td>2666</td>\n",
       "      <td>20595360</td>\n",
       "    </tr>\n",
       "    <tr>\n",
       "      <th>4</th>\n",
       "      <td>Brazil</td>\n",
       "      <td>2000</td>\n",
       "      <td>80488</td>\n",
       "      <td>174504898</td>\n",
       "    </tr>\n",
       "    <tr>\n",
       "      <th>5</th>\n",
       "      <td>China</td>\n",
       "      <td>2000</td>\n",
       "      <td>213766</td>\n",
       "      <td>1280428583</td>\n",
       "    </tr>\n",
       "  </tbody>\n",
       "</table>\n",
       "</div>"
      ],
      "text/plain": [
       "       country  year   cases  population\n",
       "0  Afghanistan  1999     745    19987071\n",
       "1       Brazil  1999   37737   172006362\n",
       "2        China  1999  212258  1272915272\n",
       "3  Afghanistan  2000    2666    20595360\n",
       "4       Brazil  2000   80488   174504898\n",
       "5        China  2000  213766  1280428583"
      ]
     },
     "metadata": {},
     "output_type": "display_data"
    }
   ],
   "source": [
    "C = A.merge(B, on=['country', 'year'])\n",
    "print(\"\\n=== C = merge(A, B) ===\")\n",
    "display(C)"
   ]
  },
  {
   "cell_type": "markdown",
   "id": "c2389c34",
   "metadata": {},
   "source": [
    "Another operation that is useful is joining. \n",
    "\n",
    "The default join only rows that match both input frames is called an inner-join.\n",
    "\n",
    "* Inner-join (A, B) (default): Keep only rows of A and B where the on-keys match in both.\n",
    "\n",
    "* Outer-join (A, B): Keep all rows of both frames, but merge rows when the on-keys match. For non-matches, fill in missing values with not-a-number (NaN) values.\n",
    "\n",
    "* Left-join (A, B): Keep all rows of A. Only merge rows of B whose on-keys match A.\n",
    "\n",
    "* Right-join (A, B): Keep all rows of B. Only merge rows of A whose on-keys match B.\n",
    "\n",
    "* Alternatively, you can use merge's how=... parameter, which takes the (string) values, 'inner', 'outer', 'left', and 'right'. "
   ]
  },
  {
   "cell_type": "code",
   "execution_count": 23,
   "id": "42cc75f7",
   "metadata": {},
   "outputs": [
    {
     "name": "stdout",
     "output_type": "stream",
     "text": [
      "=== D ===\n"
     ]
    },
    {
     "data": {
      "text/html": [
       "<div>\n",
       "<style scoped>\n",
       "    .dataframe tbody tr th:only-of-type {\n",
       "        vertical-align: middle;\n",
       "    }\n",
       "\n",
       "    .dataframe tbody tr th {\n",
       "        vertical-align: top;\n",
       "    }\n",
       "\n",
       "    .dataframe thead th {\n",
       "        text-align: right;\n",
       "    }\n",
       "</style>\n",
       "<table border=\"1\" class=\"dataframe\">\n",
       "  <thead>\n",
       "    <tr style=\"text-align: right;\">\n",
       "      <th></th>\n",
       "      <th>x</th>\n",
       "      <th>y</th>\n",
       "      <th>z</th>\n",
       "    </tr>\n",
       "  </thead>\n",
       "  <tbody>\n",
       "    <tr>\n",
       "      <th>0</th>\n",
       "      <td>bug</td>\n",
       "      <td>1</td>\n",
       "      <td>d</td>\n",
       "    </tr>\n",
       "    <tr>\n",
       "      <th>1</th>\n",
       "      <td>rug</td>\n",
       "      <td>2</td>\n",
       "      <td>d</td>\n",
       "    </tr>\n",
       "    <tr>\n",
       "      <th>2</th>\n",
       "      <td>lug</td>\n",
       "      <td>3</td>\n",
       "      <td>d</td>\n",
       "    </tr>\n",
       "    <tr>\n",
       "      <th>3</th>\n",
       "      <td>mug</td>\n",
       "      <td>4</td>\n",
       "      <td>d</td>\n",
       "    </tr>\n",
       "  </tbody>\n",
       "</table>\n",
       "</div>"
      ],
      "text/plain": [
       "     x  y  z\n",
       "0  bug  1  d\n",
       "1  rug  2  d\n",
       "2  lug  3  d\n",
       "3  mug  4  d"
      ]
     },
     "metadata": {},
     "output_type": "display_data"
    },
    {
     "name": "stdout",
     "output_type": "stream",
     "text": [
      "\n",
      "=== E ===\n"
     ]
    },
    {
     "data": {
      "text/html": [
       "<div>\n",
       "<style scoped>\n",
       "    .dataframe tbody tr th:only-of-type {\n",
       "        vertical-align: middle;\n",
       "    }\n",
       "\n",
       "    .dataframe tbody tr th {\n",
       "        vertical-align: top;\n",
       "    }\n",
       "\n",
       "    .dataframe thead th {\n",
       "        text-align: right;\n",
       "    }\n",
       "</style>\n",
       "<table border=\"1\" class=\"dataframe\">\n",
       "  <thead>\n",
       "    <tr style=\"text-align: right;\">\n",
       "      <th></th>\n",
       "      <th>x</th>\n",
       "      <th>y</th>\n",
       "      <th>w</th>\n",
       "    </tr>\n",
       "  </thead>\n",
       "  <tbody>\n",
       "    <tr>\n",
       "      <th>0</th>\n",
       "      <td>hug</td>\n",
       "      <td>-1</td>\n",
       "      <td>e</td>\n",
       "    </tr>\n",
       "    <tr>\n",
       "      <th>1</th>\n",
       "      <td>smug</td>\n",
       "      <td>-2</td>\n",
       "      <td>e</td>\n",
       "    </tr>\n",
       "    <tr>\n",
       "      <th>2</th>\n",
       "      <td>rug</td>\n",
       "      <td>-3</td>\n",
       "      <td>e</td>\n",
       "    </tr>\n",
       "    <tr>\n",
       "      <th>3</th>\n",
       "      <td>tug</td>\n",
       "      <td>-4</td>\n",
       "      <td>e</td>\n",
       "    </tr>\n",
       "    <tr>\n",
       "      <th>4</th>\n",
       "      <td>bug</td>\n",
       "      <td>1</td>\n",
       "      <td>e</td>\n",
       "    </tr>\n",
       "  </tbody>\n",
       "</table>\n",
       "</div>"
      ],
      "text/plain": [
       "      x  y  w\n",
       "0   hug -1  e\n",
       "1  smug -2  e\n",
       "2   rug -3  e\n",
       "3   tug -4  e\n",
       "4   bug  1  e"
      ]
     },
     "metadata": {},
     "output_type": "display_data"
    },
    {
     "name": "stdout",
     "output_type": "stream",
     "text": [
      "\n",
      "=== Outer-join (D, E) ===\n"
     ]
    },
    {
     "data": {
      "text/html": [
       "<div>\n",
       "<style scoped>\n",
       "    .dataframe tbody tr th:only-of-type {\n",
       "        vertical-align: middle;\n",
       "    }\n",
       "\n",
       "    .dataframe tbody tr th {\n",
       "        vertical-align: top;\n",
       "    }\n",
       "\n",
       "    .dataframe thead th {\n",
       "        text-align: right;\n",
       "    }\n",
       "</style>\n",
       "<table border=\"1\" class=\"dataframe\">\n",
       "  <thead>\n",
       "    <tr style=\"text-align: right;\">\n",
       "      <th></th>\n",
       "      <th>x</th>\n",
       "      <th>y</th>\n",
       "      <th>z</th>\n",
       "      <th>w</th>\n",
       "    </tr>\n",
       "  </thead>\n",
       "  <tbody>\n",
       "    <tr>\n",
       "      <th>0</th>\n",
       "      <td>bug</td>\n",
       "      <td>1</td>\n",
       "      <td>d</td>\n",
       "      <td>e</td>\n",
       "    </tr>\n",
       "    <tr>\n",
       "      <th>1</th>\n",
       "      <td>rug</td>\n",
       "      <td>2</td>\n",
       "      <td>d</td>\n",
       "      <td>NaN</td>\n",
       "    </tr>\n",
       "    <tr>\n",
       "      <th>2</th>\n",
       "      <td>lug</td>\n",
       "      <td>3</td>\n",
       "      <td>d</td>\n",
       "      <td>NaN</td>\n",
       "    </tr>\n",
       "    <tr>\n",
       "      <th>3</th>\n",
       "      <td>mug</td>\n",
       "      <td>4</td>\n",
       "      <td>d</td>\n",
       "      <td>NaN</td>\n",
       "    </tr>\n",
       "    <tr>\n",
       "      <th>4</th>\n",
       "      <td>hug</td>\n",
       "      <td>-1</td>\n",
       "      <td>NaN</td>\n",
       "      <td>e</td>\n",
       "    </tr>\n",
       "    <tr>\n",
       "      <th>5</th>\n",
       "      <td>smug</td>\n",
       "      <td>-2</td>\n",
       "      <td>NaN</td>\n",
       "      <td>e</td>\n",
       "    </tr>\n",
       "    <tr>\n",
       "      <th>6</th>\n",
       "      <td>rug</td>\n",
       "      <td>-3</td>\n",
       "      <td>NaN</td>\n",
       "      <td>e</td>\n",
       "    </tr>\n",
       "    <tr>\n",
       "      <th>7</th>\n",
       "      <td>tug</td>\n",
       "      <td>-4</td>\n",
       "      <td>NaN</td>\n",
       "      <td>e</td>\n",
       "    </tr>\n",
       "  </tbody>\n",
       "</table>\n",
       "</div>"
      ],
      "text/plain": [
       "      x  y    z    w\n",
       "0   bug  1    d    e\n",
       "1   rug  2    d  NaN\n",
       "2   lug  3    d  NaN\n",
       "3   mug  4    d  NaN\n",
       "4   hug -1  NaN    e\n",
       "5  smug -2  NaN    e\n",
       "6   rug -3  NaN    e\n",
       "7   tug -4  NaN    e"
      ]
     },
     "metadata": {},
     "output_type": "display_data"
    },
    {
     "name": "stdout",
     "output_type": "stream",
     "text": [
      "\n",
      "=== Left-join (D, E) ===\n"
     ]
    },
    {
     "data": {
      "text/html": [
       "<div>\n",
       "<style scoped>\n",
       "    .dataframe tbody tr th:only-of-type {\n",
       "        vertical-align: middle;\n",
       "    }\n",
       "\n",
       "    .dataframe tbody tr th {\n",
       "        vertical-align: top;\n",
       "    }\n",
       "\n",
       "    .dataframe thead th {\n",
       "        text-align: right;\n",
       "    }\n",
       "</style>\n",
       "<table border=\"1\" class=\"dataframe\">\n",
       "  <thead>\n",
       "    <tr style=\"text-align: right;\">\n",
       "      <th></th>\n",
       "      <th>x</th>\n",
       "      <th>y</th>\n",
       "      <th>z</th>\n",
       "      <th>w</th>\n",
       "    </tr>\n",
       "  </thead>\n",
       "  <tbody>\n",
       "    <tr>\n",
       "      <th>0</th>\n",
       "      <td>bug</td>\n",
       "      <td>1</td>\n",
       "      <td>d</td>\n",
       "      <td>e</td>\n",
       "    </tr>\n",
       "    <tr>\n",
       "      <th>1</th>\n",
       "      <td>rug</td>\n",
       "      <td>2</td>\n",
       "      <td>d</td>\n",
       "      <td>NaN</td>\n",
       "    </tr>\n",
       "    <tr>\n",
       "      <th>2</th>\n",
       "      <td>lug</td>\n",
       "      <td>3</td>\n",
       "      <td>d</td>\n",
       "      <td>NaN</td>\n",
       "    </tr>\n",
       "    <tr>\n",
       "      <th>3</th>\n",
       "      <td>mug</td>\n",
       "      <td>4</td>\n",
       "      <td>d</td>\n",
       "      <td>NaN</td>\n",
       "    </tr>\n",
       "  </tbody>\n",
       "</table>\n",
       "</div>"
      ],
      "text/plain": [
       "     x  y  z    w\n",
       "0  bug  1  d    e\n",
       "1  rug  2  d  NaN\n",
       "2  lug  3  d  NaN\n",
       "3  mug  4  d  NaN"
      ]
     },
     "metadata": {},
     "output_type": "display_data"
    },
    {
     "name": "stdout",
     "output_type": "stream",
     "text": [
      "\n",
      "=== Right-join (D, E) ===\n"
     ]
    },
    {
     "data": {
      "text/html": [
       "<div>\n",
       "<style scoped>\n",
       "    .dataframe tbody tr th:only-of-type {\n",
       "        vertical-align: middle;\n",
       "    }\n",
       "\n",
       "    .dataframe tbody tr th {\n",
       "        vertical-align: top;\n",
       "    }\n",
       "\n",
       "    .dataframe thead th {\n",
       "        text-align: right;\n",
       "    }\n",
       "</style>\n",
       "<table border=\"1\" class=\"dataframe\">\n",
       "  <thead>\n",
       "    <tr style=\"text-align: right;\">\n",
       "      <th></th>\n",
       "      <th>x</th>\n",
       "      <th>y</th>\n",
       "      <th>z</th>\n",
       "      <th>w</th>\n",
       "    </tr>\n",
       "  </thead>\n",
       "  <tbody>\n",
       "    <tr>\n",
       "      <th>0</th>\n",
       "      <td>hug</td>\n",
       "      <td>-1</td>\n",
       "      <td>NaN</td>\n",
       "      <td>e</td>\n",
       "    </tr>\n",
       "    <tr>\n",
       "      <th>1</th>\n",
       "      <td>smug</td>\n",
       "      <td>-2</td>\n",
       "      <td>NaN</td>\n",
       "      <td>e</td>\n",
       "    </tr>\n",
       "    <tr>\n",
       "      <th>2</th>\n",
       "      <td>rug</td>\n",
       "      <td>-3</td>\n",
       "      <td>NaN</td>\n",
       "      <td>e</td>\n",
       "    </tr>\n",
       "    <tr>\n",
       "      <th>3</th>\n",
       "      <td>tug</td>\n",
       "      <td>-4</td>\n",
       "      <td>NaN</td>\n",
       "      <td>e</td>\n",
       "    </tr>\n",
       "    <tr>\n",
       "      <th>4</th>\n",
       "      <td>bug</td>\n",
       "      <td>1</td>\n",
       "      <td>d</td>\n",
       "      <td>e</td>\n",
       "    </tr>\n",
       "  </tbody>\n",
       "</table>\n",
       "</div>"
      ],
      "text/plain": [
       "      x  y    z  w\n",
       "0   hug -1  NaN  e\n",
       "1  smug -2  NaN  e\n",
       "2   rug -3  NaN  e\n",
       "3   tug -4  NaN  e\n",
       "4   bug  1    d  e"
      ]
     },
     "metadata": {},
     "output_type": "display_data"
    },
    {
     "name": "stdout",
     "output_type": "stream",
     "text": [
      "\n",
      "=== Inner-join (D, E) ===\n"
     ]
    },
    {
     "data": {
      "text/html": [
       "<div>\n",
       "<style scoped>\n",
       "    .dataframe tbody tr th:only-of-type {\n",
       "        vertical-align: middle;\n",
       "    }\n",
       "\n",
       "    .dataframe tbody tr th {\n",
       "        vertical-align: top;\n",
       "    }\n",
       "\n",
       "    .dataframe thead th {\n",
       "        text-align: right;\n",
       "    }\n",
       "</style>\n",
       "<table border=\"1\" class=\"dataframe\">\n",
       "  <thead>\n",
       "    <tr style=\"text-align: right;\">\n",
       "      <th></th>\n",
       "      <th>x</th>\n",
       "      <th>y</th>\n",
       "      <th>z</th>\n",
       "      <th>w</th>\n",
       "    </tr>\n",
       "  </thead>\n",
       "  <tbody>\n",
       "    <tr>\n",
       "      <th>0</th>\n",
       "      <td>bug</td>\n",
       "      <td>1</td>\n",
       "      <td>d</td>\n",
       "      <td>e</td>\n",
       "    </tr>\n",
       "  </tbody>\n",
       "</table>\n",
       "</div>"
      ],
      "text/plain": [
       "     x  y  z  w\n",
       "0  bug  1  d  e"
      ]
     },
     "metadata": {},
     "output_type": "display_data"
    }
   ],
   "source": [
    "with StringIO(\"\"\"x,y,z\n",
    "bug,1,d\n",
    "rug,2,d\n",
    "lug,3,d\n",
    "mug,4,d\"\"\") as fp:\n",
    "    D = pd.read_csv(fp)\n",
    "print(\"=== D ===\")\n",
    "display(D)\n",
    "\n",
    "with StringIO(\"\"\"x,y,w\n",
    "hug,-1,e\n",
    "smug,-2,e\n",
    "rug,-3,e\n",
    "tug,-4,e\n",
    "bug,1,e\"\"\") as fp:\n",
    "    E = pd.read_csv(fp)\n",
    "print(\"\\n=== E ===\")\n",
    "display(E)\n",
    "\n",
    "print(\"\\n=== Outer-join (D, E) ===\")\n",
    "display(D.merge(E, on=['x', 'y'], how='outer'))\n",
    "\n",
    "print(\"\\n=== Left-join (D, E) ===\")\n",
    "display(D.merge(E, on=['x', 'y'], how='left'))\n",
    "\n",
    "print(\"\\n=== Right-join (D, E) ===\")\n",
    "display(D.merge(E, on=['x', 'y'], how='right'))\n",
    "\n",
    "\n",
    "print(\"\\n=== Inner-join (D, E) ===\")\n",
    "display(D.merge(E, on=['x', 'y']))\n"
   ]
  },
  {
   "cell_type": "markdown",
   "id": "ff4f8da8",
   "metadata": {},
   "source": [
    "Another operation we will use is the .apply(). \n",
    "\n",
    "https://pandas.pydata.org/pandas-docs/stable/reference/api/pandas.DataFrame.apply.html?highlight=apply#pandas.DataFrame.apply"
   ]
  },
  {
   "cell_type": "code",
   "execution_count": null,
   "id": "80a95241",
   "metadata": {},
   "outputs": [],
   "source": [
    "# Example of data_frame.apply()\n",
    "G = C.copy() # If you do not use copy function the original data frame is modified\n",
    "G['year'] = G['year'].apply(lambda x: \"'{:02d}\".format(x % 100))\n",
    "display(G)"
   ]
  },
  {
   "cell_type": "code",
   "execution_count": null,
   "id": "0ce1459f",
   "metadata": {},
   "outputs": [],
   "source": [
    "pokemon_status = pd.read_csv(\"input/pokemon_status.csv\")\n",
    "pokemon_status.head()"
   ]
  },
  {
   "cell_type": "code",
   "execution_count": null,
   "id": "c62c33ba",
   "metadata": {},
   "outputs": [],
   "source": [
    "#pokemon_status['Name'].unique()\n",
    "#Well the name 'Unown' was suspecious but it turns out to be a valid pokemon name."
   ]
  },
  {
   "cell_type": "markdown",
   "id": "2c8f500f",
   "metadata": {},
   "source": [
    "Write your program below to combine your collected data frame of pokemon with the pokemon_status.\n",
    "\n",
    "The result data frame should have at least all 809 pokemon in pokemon_status.\n",
    "\n",
    "The result data frame should not have repeated columns.\n",
    "\n",
    "The result data frame should have the following columns: id,Name,Type 1,Type 2,HP,Attack,Defense,Sp. Atk,Sp. Def,Speed,Generation,Legendary"
   ]
  },
  {
   "cell_type": "code",
   "execution_count": null,
   "id": "b3bdc1f3",
   "metadata": {},
   "outputs": [],
   "source": []
  },
  {
   "cell_type": "markdown",
   "id": "0669afc4",
   "metadata": {},
   "source": [
    "One measure we can take for an overall \"strength\" of a pokemon is to sum up all their base status. \n",
    "\n",
    "Write your code of a function summing up all the base status values. Apply this function to each pokemon in your data base and then create a new dataframe called \"pokemon_overall_status_sum\" with the following two columns: id, sum"
   ]
  },
  {
   "cell_type": "code",
   "execution_count": null,
   "id": "4510ddd7",
   "metadata": {},
   "outputs": [],
   "source": []
  }
 ],
 "metadata": {
  "kernelspec": {
   "display_name": "Python 3 (ipykernel)",
   "language": "python",
   "name": "python3"
  },
  "language_info": {
   "codemirror_mode": {
    "name": "ipython",
    "version": 3
   },
   "file_extension": ".py",
   "mimetype": "text/x-python",
   "name": "python",
   "nbconvert_exporter": "python",
   "pygments_lexer": "ipython3",
   "version": "3.10.9"
  }
 },
 "nbformat": 4,
 "nbformat_minor": 5
}
