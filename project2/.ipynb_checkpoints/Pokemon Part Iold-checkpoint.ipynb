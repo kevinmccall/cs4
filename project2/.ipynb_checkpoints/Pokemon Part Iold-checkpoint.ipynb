{
 "cells": [
  {
   "cell_type": "markdown",
   "id": "06c7f77e",
   "metadata": {},
   "source": [
    "# Data Collection"
   ]
  },
  {
   "cell_type": "markdown",
   "id": "432d95d6",
   "metadata": {},
   "source": [
    "1. Go to https://pokeapi.co/ for the pokemon api\n",
    "2. Open https://www.postman.com/ and create your account\n",
    "3. Copy the link provided on the homepage of pokeapi. You don't have to change it for now.\n",
    "    * There should be a clickable link on the homepage of pokeapi showing exactly what you have copied. Click it and see what happens.\n",
    "    * Open a new tab on chrome and paste the link you copied on the address bar. Click enter and see what happens.\n",
    "    * On the postman.com page, click new -> HTTP. Check if the method is \"GET\", if not, choose \"GET\". Then paste the copied api link to the textbox following \"GET\"."
   ]
  },
  {
   "cell_type": "markdown",
   "id": "c02fb082",
   "metadata": {},
   "source": [
    "## Task 1: Write code in python to find all pokemons, iterate the list and build a data frame with pokemons' \n",
    "* Name,\n",
    "* Type 1,\n",
    "* Type 2,\n",
    "* Generation,\n",
    "* Legendary"
   ]
  },
  {
   "cell_type": "markdown",
   "id": "d9aba902",
   "metadata": {},
   "source": [
    "Hint 1: First find a directory of all pokemons, and then interate the directory to find the properties of each pokemon as requested.\n",
    "\n",
    "Hint 2: Use an api call such as http://pokeapi.co/api/v2/pokemon/?limit=100 to explore the pokemons. Count at least 800 pokemons in your collected data. Below is an example of making api calls in python."
   ]
  },
  {
   "cell_type": "code",
   "execution_count": 28,
   "id": "46dba580",
   "metadata": {},
   "outputs": [
    {
     "ename": "SyntaxError",
     "evalue": "invalid syntax (214336260.py, line 1)",
     "output_type": "error",
     "traceback": [
      "\u001b[1;36m  Cell \u001b[1;32mIn[28], line 1\u001b[1;36m\u001b[0m\n\u001b[1;33m    pip install requests\u001b[0m\n\u001b[1;37m        ^\u001b[0m\n\u001b[1;31mSyntaxError\u001b[0m\u001b[1;31m:\u001b[0m invalid syntax\n"
     ]
    }
   ],
   "source": [
    "pip install requests\n",
    "pip install asyncio"
   ]
  },
  {
   "cell_type": "code",
   "execution_count": 12,
   "id": "d46267eb",
   "metadata": {},
   "outputs": [],
   "source": [
    "import json\n",
    "import requests\n",
    "import pandas as pd\n",
    "\n",
    "def get_data(api):\n",
    "    response = requests.get(f\"{api}\")\n",
    "    if response.status_code == 200:\n",
    "        return response.json()\n",
    "    else:\n",
    "        return f\"Hello kevdog, there's a {response.status_code} error with your request\"\n",
    "\n"
   ]
  },
  {
   "cell_type": "code",
   "execution_count": 19,
   "id": "32a508ff",
   "metadata": {},
   "outputs": [],
   "source": [
    "api_call_result = get_data(\"https://pokeapi.co/api/v2/pokemon?limit=1000000\")\n",
    "pokemon_api_list = api_call_result['results']"
   ]
  },
  {
   "cell_type": "code",
   "execution_count": 14,
   "id": "d2545f2c",
   "metadata": {},
   "outputs": [
    {
     "data": {
      "text/plain": [
       "int"
      ]
     },
     "execution_count": 14,
     "metadata": {},
     "output_type": "execute_result"
    }
   ],
   "source": [
    "type(api_call_result[\"count\"])"
   ]
  },
  {
   "cell_type": "code",
   "execution_count": 15,
   "id": "92cb1dd4",
   "metadata": {
    "scrolled": true
   },
   "outputs": [
    {
     "data": {
      "text/plain": [
       "list"
      ]
     },
     "execution_count": 15,
     "metadata": {},
     "output_type": "execute_result"
    }
   ],
   "source": [
    "type(api_call_result[\"results\"])"
   ]
  },
  {
   "cell_type": "code",
   "execution_count": 16,
   "id": "8e62e0a2",
   "metadata": {},
   "outputs": [
    {
     "data": {
      "text/html": [
       "<div>\n",
       "<style scoped>\n",
       "    .dataframe tbody tr th:only-of-type {\n",
       "        vertical-align: middle;\n",
       "    }\n",
       "\n",
       "    .dataframe tbody tr th {\n",
       "        vertical-align: top;\n",
       "    }\n",
       "\n",
       "    .dataframe thead th {\n",
       "        text-align: right;\n",
       "    }\n",
       "</style>\n",
       "<table border=\"1\" class=\"dataframe\">\n",
       "  <thead>\n",
       "    <tr style=\"text-align: right;\">\n",
       "      <th></th>\n",
       "    </tr>\n",
       "  </thead>\n",
       "  <tbody>\n",
       "  </tbody>\n",
       "</table>\n",
       "</div>"
      ],
      "text/plain": [
       "Empty DataFrame\n",
       "Columns: []\n",
       "Index: []"
      ]
     },
     "execution_count": 16,
     "metadata": {},
     "output_type": "execute_result"
    }
   ],
   "source": [
    "pokemon_df=pd.DataFrame()\n",
    "pokemon_df"
   ]
  },
  {
   "cell_type": "code",
   "execution_count": 21,
   "id": "eb4cff84",
   "metadata": {},
   "outputs": [],
   "source": [
    "#Example: create a data frame\n",
    "def concat(df1, data:list):\n",
    "    entry = pd.DataFrame([data])\n",
    "    res = pd.concat([df1, entry])\n",
    "    return res"
   ]
  },
  {
   "cell_type": "code",
   "execution_count": 22,
   "id": "b6535d88",
   "metadata": {},
   "outputs": [],
   "source": [
    "for i in range(len(pokemon_api_list)):\n",
    "    name = pokemon_api_list[i]['name']\n",
    "    url = pokemon_api_list[i]['url']\n",
    "    pokemon_properties = get_data(url)\n",
    "    types = pokemon_properties['types']\n",
    "    type1= types[0]['type']['name']\n",
    "    type2=None\n",
    "    if len(types) > 1:\n",
    "        type2= types[1]['type']['name']\n",
    "        \n",
    "    is_legendary = [\"is_legendary\"]\n",
    "    species = get_data(pokemon_properties[\"species\"][\"url\"])\n",
    "    generation = species[\"generation\"][\"name\"]\n",
    "    is_legendary = species[\"is_legendary\"]\n",
    "    row = [name, type1, type2, generation, is_legendary]\n",
    "    pokemon_df = concat(pokemon_df, row)\n",
    "    \n",
    "#     pokemon_df.append()\n",
    "    \n",
    "    "
   ]
  },
  {
   "cell_type": "markdown",
   "id": "9d2e8d70",
   "metadata": {},
   "source": [
    "Hint 3: Use pandas to store and manage your pokemon as a data frame. \n",
    "Check the documentation of pandas here: \n",
    "https://pandas.pydata.org/\n",
    "Check pandas tutorial for beginners here: \n",
    "ww.w3schools.com/python/pandas/default.asp.\n",
    "For more examples and instructions on pandas, check the book: https://jakevdp.github.io/PythonDataScienceHandbook/\n"
   ]
  },
  {
   "cell_type": "code",
   "execution_count": 40,
   "id": "fa85803f",
   "metadata": {},
   "outputs": [
    {
     "data": {
      "text/html": [
       "<div>\n",
       "<style scoped>\n",
       "    .dataframe tbody tr th:only-of-type {\n",
       "        vertical-align: middle;\n",
       "    }\n",
       "\n",
       "    .dataframe tbody tr th {\n",
       "        vertical-align: top;\n",
       "    }\n",
       "\n",
       "    .dataframe thead th {\n",
       "        text-align: right;\n",
       "    }\n",
       "</style>\n",
       "<table border=\"1\" class=\"dataframe\">\n",
       "  <thead>\n",
       "    <tr style=\"text-align: right;\">\n",
       "      <th></th>\n",
       "      <th>Name</th>\n",
       "      <th>Type 1</th>\n",
       "      <th>Type 2</th>\n",
       "      <th>Generation</th>\n",
       "      <th>Legendary</th>\n",
       "    </tr>\n",
       "  </thead>\n",
       "  <tbody>\n",
       "    <tr>\n",
       "      <th>0</th>\n",
       "      <td>bulbasaur</td>\n",
       "      <td>grass</td>\n",
       "      <td>poison</td>\n",
       "      <td>generation-i</td>\n",
       "      <td>False</td>\n",
       "    </tr>\n",
       "    <tr>\n",
       "      <th>1</th>\n",
       "      <td>ivysaur</td>\n",
       "      <td>grass</td>\n",
       "      <td>poison</td>\n",
       "      <td>generation-i</td>\n",
       "      <td>False</td>\n",
       "    </tr>\n",
       "    <tr>\n",
       "      <th>2</th>\n",
       "      <td>venusaur</td>\n",
       "      <td>grass</td>\n",
       "      <td>poison</td>\n",
       "      <td>generation-i</td>\n",
       "      <td>False</td>\n",
       "    </tr>\n",
       "    <tr>\n",
       "      <th>3</th>\n",
       "      <td>charmander</td>\n",
       "      <td>fire</td>\n",
       "      <td>None</td>\n",
       "      <td>generation-i</td>\n",
       "      <td>False</td>\n",
       "    </tr>\n",
       "    <tr>\n",
       "      <th>4</th>\n",
       "      <td>charmeleon</td>\n",
       "      <td>fire</td>\n",
       "      <td>None</td>\n",
       "      <td>generation-i</td>\n",
       "      <td>False</td>\n",
       "    </tr>\n",
       "  </tbody>\n",
       "</table>\n",
       "</div>"
      ],
      "text/plain": [
       "         Name Type 1  Type 2    Generation  Legendary\n",
       "0   bulbasaur  grass  poison  generation-i      False\n",
       "1     ivysaur  grass  poison  generation-i      False\n",
       "2    venusaur  grass  poison  generation-i      False\n",
       "3  charmander   fire    None  generation-i      False\n",
       "4  charmeleon   fire    None  generation-i      False"
      ]
     },
     "metadata": {},
     "output_type": "display_data"
    },
    {
     "data": {
      "text/html": [
       "<div>\n",
       "<style scoped>\n",
       "    .dataframe tbody tr th:only-of-type {\n",
       "        vertical-align: middle;\n",
       "    }\n",
       "\n",
       "    .dataframe tbody tr th {\n",
       "        vertical-align: top;\n",
       "    }\n",
       "\n",
       "    .dataframe thead th {\n",
       "        text-align: right;\n",
       "    }\n",
       "</style>\n",
       "<table border=\"1\" class=\"dataframe\">\n",
       "  <thead>\n",
       "    <tr style=\"text-align: right;\">\n",
       "      <th></th>\n",
       "      <th>Name</th>\n",
       "      <th>Type 1</th>\n",
       "      <th>Type 2</th>\n",
       "      <th>Generation</th>\n",
       "      <th>Legendary</th>\n",
       "    </tr>\n",
       "  </thead>\n",
       "  <tbody>\n",
       "    <tr>\n",
       "      <th>0</th>\n",
       "      <td>bulbasaur</td>\n",
       "      <td>grass</td>\n",
       "      <td>poison</td>\n",
       "      <td>generation-i</td>\n",
       "      <td>False</td>\n",
       "    </tr>\n",
       "    <tr>\n",
       "      <th>0</th>\n",
       "      <td>ivysaur</td>\n",
       "      <td>grass</td>\n",
       "      <td>poison</td>\n",
       "      <td>generation-i</td>\n",
       "      <td>False</td>\n",
       "    </tr>\n",
       "    <tr>\n",
       "      <th>0</th>\n",
       "      <td>venusaur</td>\n",
       "      <td>grass</td>\n",
       "      <td>poison</td>\n",
       "      <td>generation-i</td>\n",
       "      <td>False</td>\n",
       "    </tr>\n",
       "    <tr>\n",
       "      <th>0</th>\n",
       "      <td>charmander</td>\n",
       "      <td>fire</td>\n",
       "      <td>None</td>\n",
       "      <td>generation-i</td>\n",
       "      <td>False</td>\n",
       "    </tr>\n",
       "    <tr>\n",
       "      <th>0</th>\n",
       "      <td>charmeleon</td>\n",
       "      <td>fire</td>\n",
       "      <td>None</td>\n",
       "      <td>generation-i</td>\n",
       "      <td>False</td>\n",
       "    </tr>\n",
       "  </tbody>\n",
       "</table>\n",
       "</div>"
      ],
      "text/plain": [
       "         Name Type 1  Type 2    Generation  Legendary\n",
       "0   bulbasaur  grass  poison  generation-i      False\n",
       "0     ivysaur  grass  poison  generation-i      False\n",
       "0    venusaur  grass  poison  generation-i      False\n",
       "0  charmander   fire    None  generation-i      False\n",
       "0  charmeleon   fire    None  generation-i      False"
      ]
     },
     "metadata": {},
     "output_type": "display_data"
    }
   ],
   "source": [
    "pokemon_df = pokemon_df.set_axis(['Name', 'Type 1', 'Type 2', 'Generation', 'Legendary'], axis=1)\n",
    "pokemon_df = pokemon_df.reset_index(drop=True)\n"
   ]
  },
  {
   "cell_type": "code",
   "execution_count": 26,
   "id": "dce6033d",
   "metadata": {},
   "outputs": [
    {
     "data": {
      "text/html": [
       "<div>\n",
       "<style scoped>\n",
       "    .dataframe tbody tr th:only-of-type {\n",
       "        vertical-align: middle;\n",
       "    }\n",
       "\n",
       "    .dataframe tbody tr th {\n",
       "        vertical-align: top;\n",
       "    }\n",
       "\n",
       "    .dataframe thead th {\n",
       "        text-align: right;\n",
       "    }\n",
       "</style>\n",
       "<table border=\"1\" class=\"dataframe\">\n",
       "  <thead>\n",
       "    <tr style=\"text-align: right;\">\n",
       "      <th></th>\n",
       "      <th>Name</th>\n",
       "      <th>Type 1</th>\n",
       "      <th>Type 2</th>\n",
       "    </tr>\n",
       "  </thead>\n",
       "  <tbody>\n",
       "    <tr>\n",
       "      <th>count</th>\n",
       "      <td>1</td>\n",
       "      <td>1</td>\n",
       "      <td>1</td>\n",
       "    </tr>\n",
       "    <tr>\n",
       "      <th>unique</th>\n",
       "      <td>1</td>\n",
       "      <td>1</td>\n",
       "      <td>1</td>\n",
       "    </tr>\n",
       "    <tr>\n",
       "      <th>top</th>\n",
       "      <td>bulbasaur</td>\n",
       "      <td>grass</td>\n",
       "      <td>poison</td>\n",
       "    </tr>\n",
       "    <tr>\n",
       "      <th>freq</th>\n",
       "      <td>1</td>\n",
       "      <td>1</td>\n",
       "      <td>1</td>\n",
       "    </tr>\n",
       "  </tbody>\n",
       "</table>\n",
       "</div>"
      ],
      "text/plain": [
       "             Name Type 1  Type 2\n",
       "count           1      1       1\n",
       "unique          1      1       1\n",
       "top     bulbasaur  grass  poison\n",
       "freq            1      1       1"
      ]
     },
     "execution_count": 26,
     "metadata": {},
     "output_type": "execute_result"
    }
   ],
   "source": [
    "pokemon_df.describe()"
   ]
  },
  {
   "cell_type": "code",
   "execution_count": 35,
   "id": "ae7e6262",
   "metadata": {},
   "outputs": [],
   "source": [
    "pokemon_df.to_csv(\"kevin-pokemon-data.csv\", encoding=\"utf-8\")"
   ]
  },
  {
   "cell_type": "code",
   "execution_count": 24,
   "id": "ae90d3c2",
   "metadata": {},
   "outputs": [],
   "source": [
    "#Write your code here to accomplish task 1\n",
    "#insert more cells if needed."
   ]
  },
  {
   "cell_type": "markdown",
   "id": "e45257be",
   "metadata": {},
   "source": [
    "## Task 2: Data Cleaning"
   ]
  },
  {
   "cell_type": "markdown",
   "id": "b15913ad",
   "metadata": {},
   "source": [
    "In the input folder, there are two pokemon data documents, both in csv format. Convert each of those files in a data frame and then compare those three pokemon dataframes.\n",
    "1. Are they holding the same rows? \n",
    "2. Are they holding the same columns?\n",
    "3. Can we merge them? If yes, in what way?\n",
    "\n",
    "\n",
    "Write python code to combine all three tables and save the result as .csv file"
   ]
  },
  {
   "cell_type": "code",
   "execution_count": null,
   "id": "e7843517",
   "metadata": {},
   "outputs": [],
   "source": []
  }
 ],
 "metadata": {
  "kernelspec": {
   "display_name": "Python 3 (ipykernel)",
   "language": "python",
   "name": "python3"
  },
  "language_info": {
   "codemirror_mode": {
    "name": "ipython",
    "version": 3
   },
   "file_extension": ".py",
   "mimetype": "text/x-python",
   "name": "python",
   "nbconvert_exporter": "python",
   "pygments_lexer": "ipython3",
   "version": "3.10.9"
  }
 },
 "nbformat": 4,
 "nbformat_minor": 5
}
