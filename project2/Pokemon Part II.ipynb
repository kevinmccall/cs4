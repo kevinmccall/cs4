{
 "cells": [
  {
   "cell_type": "markdown",
   "id": "06c7f77e",
   "metadata": {},
   "source": [
    "# Fundamental Statistics Visualization on Pokemon"
   ]
  },
  {
   "cell_type": "markdown",
   "id": "432d95d6",
   "metadata": {},
   "source": [
    "1. import pokemon.csv from input folder\n",
    "2. import combats.csv from input folder\n",
    "3. Run basic stats on the data set as instructed."
   ]
  },
  {
   "cell_type": "markdown",
   "id": "c02fb082",
   "metadata": {},
   "source": [
    "## Task 3: Explore the combats data and the pokemon data using data visualization tools"
   ]
  },
  {
   "cell_type": "code",
   "execution_count": null,
   "id": "46dba580",
   "metadata": {},
   "outputs": [],
   "source": [
    "# Write code to show three rows of the combats head"
   ]
  },
  {
   "cell_type": "code",
   "execution_count": null,
   "id": "d46267eb",
   "metadata": {},
   "outputs": [],
   "source": [
    "#Choose any one from the top three combats (one row in combats). \n",
    "#Note that the participant records are numbers. \n",
    "#Are they in our pokemon.csv? If so, who are they?\n",
    "#Write code to show names of the participants and the winer. "
   ]
  },
  {
   "cell_type": "code",
   "execution_count": null,
   "id": "3e1c543c",
   "metadata": {},
   "outputs": [],
   "source": [
    "import pandas as pd\n",
    "combats = pd.read_csv('input/combats.csv')\n",
    "pokemon = pd.read_csv('input/pokemon.csv')\n",
    "pokemon.head()"
   ]
  },
  {
   "cell_type": "code",
   "execution_count": null,
   "id": "3174364b",
   "metadata": {},
   "outputs": [],
   "source": [
    "#Run the code below to update the combats dataframe\n",
    "names_dict = dict(zip(pokemon['#'], pokemon['Name']))\n",
    "cols = [\"First_pokemon\",\"Second_pokemon\",\"Winner\"]\n",
    "combats_name = combats[cols].replace(names_dict)\n",
    "combats_name.head()"
   ]
  },
  {
   "cell_type": "code",
   "execution_count": null,
   "id": "6e7b6218",
   "metadata": {},
   "outputs": [],
   "source": [
    "#Run the following commands to see what they do. Refer to the pandas documentation if needed.\n",
    "#pokemon.describe()\n",
    "#pokemon['Speed'].head()\n",
    "#pokemon[[\"Speed\", \"Defense\"]].head()\n",
    "#pokemon.iloc[5:11]\n",
    "#pokemon[pokemon[\"Generation\"] > 5]\n",
    "#pokemon[\"Speed\"].max()\n",
    "#pokemon['Generation'].unique()\n",
    "#pokemon.sort_values(by=\"HP\", ascending=False).head(3)\n",
    "#pokemon.sort_values(by=\"HP\", ascending=False).iloc[5:10]\n",
    "#pokemon.rename(columns={'#': 'id'}) #Note that the pokemon is not automatically updated by the result.\n",
    "\n",
    "#del pokemon['sum'] #Do this if you have caluculated a sum column in your pokemon dataframe."
   ]
  },
  {
   "cell_type": "markdown",
   "id": "685529b5",
   "metadata": {},
   "source": [
    "### Visualize Pokemon Status using Bokeh and the Grammar of Graphics"
   ]
  },
  {
   "cell_type": "code",
   "execution_count": null,
   "id": "495bce3a",
   "metadata": {},
   "outputs": [],
   "source": [
    "from IPython.display import display, Markdown\n",
    "import pandas as pd\n",
    "import bokeh\n"
   ]
  },
  {
   "cell_type": "code",
   "execution_count": null,
   "id": "e4356a6e",
   "metadata": {},
   "outputs": [],
   "source": [
    "from bokeh.io import output_notebook\n",
    "from bokeh.io import show\n",
    "output_notebook ()"
   ]
  },
  {
   "cell_type": "code",
   "execution_count": null,
   "id": "d89b3972",
   "metadata": {},
   "outputs": [],
   "source": [
    "from bokeh.plotting import figure\n",
    "\n",
    "# Create a canvas with a specific set of tools for the user:\n",
    "TOOLS = 'pan,box_zoom,wheel_zoom,lasso_select,save,reset,help'\n",
    "p = figure(width=500, height=500, tools=TOOLS)\n",
    "print(p)"
   ]
  },
  {
   "cell_type": "code",
   "execution_count": null,
   "id": "c812f17a",
   "metadata": {},
   "outputs": [],
   "source": [
    "p.triangle(x=pokemon['Speed'], y=pokemon['Defense'])"
   ]
  },
  {
   "cell_type": "code",
   "execution_count": null,
   "id": "6032f73d",
   "metadata": {},
   "outputs": [],
   "source": [
    "show(p)"
   ]
  },
  {
   "cell_type": "code",
   "execution_count": null,
   "id": "22e54119",
   "metadata": {},
   "outputs": [],
   "source": [
    "#Write code here to determine unique generations.\n",
    "unique_gen =\n",
    "print(unique_gen)"
   ]
  },
  {
   "cell_type": "code",
   "execution_count": null,
   "id": "c792063c",
   "metadata": {},
   "outputs": [],
   "source": [
    "# Mape each generation with a unique color\n",
    "from bokeh.palettes import brewer\n",
    "color_map = dict(zip(unique_gen, brewer['Dark2'][len(unique_gen)]))\n",
    "print(color_map)"
   ]
  },
  {
   "cell_type": "code",
   "execution_count": null,
   "id": "b43737e1",
   "metadata": {},
   "outputs": [],
   "source": [
    "#Create a data source for each generation \n",
    "data_sources = {}\n",
    "for gen in unique_gen\"\n",
    "    data_sources[gen] = ColumnDataSource(pokemon[pokomon['Generation']==gen])"
   ]
  },
  {
   "cell_type": "code",
   "execution_count": null,
   "id": "8f84eaca",
   "metadata": {},
   "outputs": [],
   "source": [
    "p = figure()\n",
    "for gen in unique_gen:\n",
    "    p.triangle(source = data_source[gen], x=pokemon['Speed'], y=pokemon['Defense'], color = color_map[gen])\n",
    "show(p)"
   ]
  },
  {
   "cell_type": "markdown",
   "id": "8e33c348",
   "metadata": {},
   "source": [
    "Another handy static visualization tool is Seaborn. Check it out here: http://seaborn.pydata.org/tutorial/distributions.html"
   ]
  },
  {
   "cell_type": "code",
   "execution_count": null,
   "id": "83237f95",
   "metadata": {},
   "outputs": [],
   "source": [
    "#Let's view the base status total distribution for all pokemons.\n",
    "pokemon[\"status_sum\"] = pokemon[\"HP\"] + pokemon[\"Attack\"] + pokemon[\"Defense\"] + pokemon[\"Sp. Atk\"] + pokemon[\"Sp. Def\"] + pokemon[\"Speed\"]\n",
    "import matplotlib.pyplot as plt\n",
    "import seaborn as sns\n",
    "%matplotlib inline\n",
    "print(pokemon[\"status_sum\"].describe())\n",
    "sns.distplot(pokemon[\"status_sum\"])\n",
    "plt.show()"
   ]
  },
  {
   "cell_type": "markdown",
   "id": "67d8e167",
   "metadata": {},
   "source": [
    "This distribution histogram shows that base status sum's distribution has a bimodal distribution. First modal is around 300 and the other is around 500. "
   ]
  },
  {
   "cell_type": "code",
   "execution_count": null,
   "id": "6d9e9843",
   "metadata": {},
   "outputs": [],
   "source": [
    "#Check the difference distribution of total base status in each combat\n",
    "status_sum_dict = dict(zip(pokemon['id'], pokemon['status_sum']))\n",
    "combats_status_sum = combats[cols].replace(status_sum_dict)\n",
    "diff_status_sum = abs(combats_status_sum[\"First_pokemon\"]-combats_status_sum[\"Second_pokemon\"])\n",
    "print(diff_status_sum.describe())\n",
    "sns.distplot(diff_status_sum)\n",
    "plt.xlabel(\"diff_status_sum\")\n",
    "plt.show()"
   ]
  },
  {
   "cell_type": "markdown",
   "id": "c00224e8",
   "metadata": {},
   "source": [
    "Did pokemon with higher total base status score win a battle against pokemon with lower total base status score?"
   ]
  },
  {
   "cell_type": "code",
   "execution_count": null,
   "id": "10dfa04a",
   "metadata": {},
   "outputs": [],
   "source": [
    "#Write your code here to \n",
    "#1. calculate the difference between winner and loser's base status scores.\n",
    "#2 Plot a distribution graph of the difference.\n"
   ]
  },
  {
   "cell_type": "markdown",
   "id": "a140ce99",
   "metadata": {},
   "source": [
    "### Open question: can you find any patterns indicating correlations among the pokemon status columns? Write your code and statement of your analysis below."
   ]
  },
  {
   "cell_type": "code",
   "execution_count": null,
   "id": "237ecdd9",
   "metadata": {},
   "outputs": [],
   "source": []
  }
 ],
 "metadata": {
  "kernelspec": {
   "display_name": "Python 3 (ipykernel)",
   "language": "python",
   "name": "python3"
  },
  "language_info": {
   "codemirror_mode": {
    "name": "ipython",
    "version": 3
   },
   "file_extension": ".py",
   "mimetype": "text/x-python",
   "name": "python",
   "nbconvert_exporter": "python",
   "pygments_lexer": "ipython3",
   "version": "3.10.9"
  }
 },
 "nbformat": 4,
 "nbformat_minor": 5
}
